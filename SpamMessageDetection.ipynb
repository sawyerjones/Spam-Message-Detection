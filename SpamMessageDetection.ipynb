{
  "nbformat": 4,
  "nbformat_minor": 0,
  "metadata": {
    "colab": {
      "provenance": []
    },
    "kernelspec": {
      "name": "python3",
      "display_name": "Python 3"
    },
    "language_info": {
      "name": "python"
    }
  },
  "cells": [
    {
      "cell_type": "code",
      "execution_count": null,
      "metadata": {
        "id": "xzRpjHHvLxuh"
      },
      "outputs": [],
      "source": [
        "import numpy as np\n",
        "import pandas as pd\n",
        "import matplotlib.pyplot as plt\n",
        "import seaborn as sns\n",
        "\n",
        "import pickle\n",
        "import tensorflow as tf\n",
        "\n",
        "from tensorflow.keras.preprocessing.sequence import pad_sequences\n",
        "from tensorflow.keras.preprocessing.text import Tokenizer\n",
        "from tensorflow.keras.models import Sequential\n",
        "from tensorflow.keras.layers import Dense\n",
        "from tensorflow.keras.layers import Flatten\n",
        "from tensorflow.keras.layers import Dropout\n",
        "from tensorflow.keras.layers import Embedding\n",
        "from tensorflow.keras.callbacks import EarlyStopping\n",
        "\n",
        "from sklearn.model_selection import train_test_split"
      ]
    },
    {
      "cell_type": "code",
      "source": [
        "df = pd.read_csv(\"spam.csv\")\n",
        "\n",
        "data = df.copy() # make a copy of the data\n",
        "data.drop(columns=[\"Unnamed: 2\", \"Unnamed: 3\", \"Unnamed: 4\"], inplace=True)\n",
        "\n",
        "#rename the label and text columns\n",
        "data = data.rename(columns={\"v1\":\"label\", \"v2\":\"text\"})\n",
        "\n",
        "#convert spam/ham labels into data alg can read\n",
        "data['label'] = data['label'].map( {'spam': 1, 'ham': 0} )"
      ],
      "metadata": {
        "id": "FAvr9NJJL9zf"
      },
      "execution_count": null,
      "outputs": []
    },
    {
      "cell_type": "code",
      "source": [
        "X = data['text'].values\n",
        "y = data['label'].values\n",
        "X_train, X_test, y_train, y_test = train_test_split(X, y, test_size=0.20, random_state=42)"
      ],
      "metadata": {
        "id": "F1aCdS18MCfZ"
      },
      "execution_count": null,
      "outputs": []
    },
    {
      "cell_type": "code",
      "source": [
        "# prepare tokenizer\n",
        "t = Tokenizer()\n",
        "t.fit_on_texts(X_train)"
      ],
      "metadata": {
        "id": "43A7QVQuMtmg"
      },
      "execution_count": null,
      "outputs": []
    },
    {
      "cell_type": "code",
      "source": [
        "# integer encode the documents\n",
        "encoded_train = t.texts_to_sequences(X_train)\n",
        "encoded_test = t.texts_to_sequences(X_test)\n",
        "print(encoded_train[0:2])"
      ],
      "metadata": {
        "colab": {
          "base_uri": "https://localhost:8080/"
        },
        "id": "KCwl0WoAMtsm",
        "outputId": "0b0e3a76-3957-4ddb-f026-301d047f8069"
      },
      "execution_count": null,
      "outputs": [
        {
          "output_type": "stream",
          "name": "stdout",
          "text": [
            "[[38, 30, 8, 5, 273, 1989, 81, 116, 26, 11, 1656, 322, 10, 53, 18, 299, 30, 349, 1990], [799, 15, 2555, 1442, 1127, 192, 2556, 171, 12, 98, 1991, 44, 195, 1657, 2557, 1992, 2558, 21, 9, 4, 203, 1025, 225]]\n"
          ]
        }
      ]
    },
    {
      "cell_type": "code",
      "source": [
        "# pad documents to a max length of 8words\n",
        "max_length = 8\n",
        "padded_train = pad_sequences(encoded_train, maxlen=max_length, padding='post')\n",
        "padded_test = pad_sequences(encoded_test, maxlen=max_length, padding='post')\n",
        "print(padded_train)"
      ],
      "metadata": {
        "colab": {
          "base_uri": "https://localhost:8080/"
        },
        "id": "xBCKSx9AMx_x",
        "outputId": "6a205036-cb9a-400a-9957-8cd57d299c7c"
      },
      "execution_count": null,
      "outputs": [
        {
          "output_type": "stream",
          "name": "stdout",
          "text": [
            "[[ 322   10   53 ...   30  349 1990]\n",
            " [1992 2558   21 ...  203 1025  225]\n",
            " [  83 1443    4 ...    2 3794 3795]\n",
            " ...\n",
            " [1477   30 2063 ...  239   30 2064]\n",
            " [ 763 1679 1161 ...    0    0    0]\n",
            " [   8  155   20 ...    8  290  175]]\n"
          ]
        }
      ]
    },
    {
      "cell_type": "code",
      "source": [
        "vocab_size = len(t.word_index) + 1\n",
        "\n",
        "# define the model\n",
        "model = Sequential()\n",
        "model.add(Embedding(vocab_size, 24, input_length=max_length))\n",
        "model.add(Flatten())\n",
        "model.add(Dense(500, activation='relu'))\n",
        "model.add(Dense(200, activation='relu'))\n",
        "model.add(Dropout(0.5))\n",
        "model.add(Dense(100, activation='relu'))\n",
        "model.add(Dense(1, activation='sigmoid'))\n",
        "\n",
        "# compile the model\n",
        "model.compile(optimizer='rmsprop', loss='binary_crossentropy', metrics=['accuracy'])\n",
        "\n",
        "# summarize the model\n",
        "print(model.summary())"
      ],
      "metadata": {
        "colab": {
          "base_uri": "https://localhost:8080/"
        },
        "id": "_ZxJvW3_M29q",
        "outputId": "01267f09-5f4b-4243-909a-51eec8268229"
      },
      "execution_count": null,
      "outputs": [
        {
          "output_type": "stream",
          "name": "stdout",
          "text": [
            "Model: \"sequential\"\n",
            "_________________________________________________________________\n",
            " Layer (type)                Output Shape              Param #   \n",
            "=================================================================\n",
            " embedding (Embedding)       (None, 8, 24)             190920    \n",
            "                                                                 \n",
            " flatten (Flatten)           (None, 192)               0         \n",
            "                                                                 \n",
            " dense (Dense)               (None, 500)               96500     \n",
            "                                                                 \n",
            " dense_1 (Dense)             (None, 200)               100200    \n",
            "                                                                 \n",
            " dropout (Dropout)           (None, 200)               0         \n",
            "                                                                 \n",
            " dense_2 (Dense)             (None, 100)               20100     \n",
            "                                                                 \n",
            " dense_3 (Dense)             (None, 1)                 101       \n",
            "                                                                 \n",
            "=================================================================\n",
            "Total params: 407821 (1.56 MB)\n",
            "Trainable params: 407821 (1.56 MB)\n",
            "Non-trainable params: 0 (0.00 Byte)\n",
            "_________________________________________________________________\n",
            "None\n"
          ]
        }
      ]
    },
    {
      "cell_type": "code",
      "source": [
        "early_stop = EarlyStopping(monitor='val_loss', mode='min', verbose=1, patience=10)\n",
        "\n",
        "# fit the model\n",
        "model.fit(x=padded_train,\n",
        "         y=y_train,\n",
        "         epochs=50,\n",
        "         validation_data=(padded_test, y_test), verbose=1,\n",
        "         callbacks=[early_stop]\n",
        "         )"
      ],
      "metadata": {
        "colab": {
          "base_uri": "https://localhost:8080/"
        },
        "id": "o5LASdi8M4rJ",
        "outputId": "f21eab6b-e4fd-4ddc-9e8b-6ad76bb25ad2"
      },
      "execution_count": null,
      "outputs": [
        {
          "output_type": "stream",
          "name": "stdout",
          "text": [
            "Epoch 1/50\n",
            "140/140 [==============================] - 4s 19ms/step - loss: 0.2280 - accuracy: 0.9123 - val_loss: 0.1013 - val_accuracy: 0.9785\n",
            "Epoch 2/50\n",
            "140/140 [==============================] - 3s 18ms/step - loss: 0.0584 - accuracy: 0.9816 - val_loss: 0.0781 - val_accuracy: 0.9821\n",
            "Epoch 3/50\n",
            "140/140 [==============================] - 2s 11ms/step - loss: 0.0239 - accuracy: 0.9928 - val_loss: 0.1025 - val_accuracy: 0.9794\n",
            "Epoch 4/50\n",
            "140/140 [==============================] - 1s 7ms/step - loss: 0.0074 - accuracy: 0.9989 - val_loss: 0.1106 - val_accuracy: 0.9794\n",
            "Epoch 5/50\n",
            "140/140 [==============================] - 1s 8ms/step - loss: 0.0031 - accuracy: 0.9993 - val_loss: 0.1323 - val_accuracy: 0.9776\n",
            "Epoch 6/50\n",
            "140/140 [==============================] - 1s 7ms/step - loss: 0.0016 - accuracy: 0.9993 - val_loss: 0.1578 - val_accuracy: 0.9722\n",
            "Epoch 7/50\n",
            "140/140 [==============================] - 1s 7ms/step - loss: 1.5946e-04 - accuracy: 1.0000 - val_loss: 0.1797 - val_accuracy: 0.9731\n",
            "Epoch 8/50\n",
            "140/140 [==============================] - 1s 7ms/step - loss: 8.9578e-05 - accuracy: 1.0000 - val_loss: 0.1861 - val_accuracy: 0.9803\n",
            "Epoch 9/50\n",
            "140/140 [==============================] - 1s 7ms/step - loss: 2.9803e-05 - accuracy: 1.0000 - val_loss: 0.1955 - val_accuracy: 0.9803\n",
            "Epoch 10/50\n",
            "140/140 [==============================] - 1s 7ms/step - loss: 1.3009e-05 - accuracy: 1.0000 - val_loss: 0.2058 - val_accuracy: 0.9803\n",
            "Epoch 11/50\n",
            "140/140 [==============================] - 1s 7ms/step - loss: 7.2827e-06 - accuracy: 1.0000 - val_loss: 0.2088 - val_accuracy: 0.9803\n",
            "Epoch 12/50\n",
            "140/140 [==============================] - 1s 7ms/step - loss: 6.3206e-06 - accuracy: 1.0000 - val_loss: 0.2151 - val_accuracy: 0.9803\n",
            "Epoch 12: early stopping\n"
          ]
        },
        {
          "output_type": "execute_result",
          "data": {
            "text/plain": [
              "<keras.src.callbacks.History at 0x7907d864dd50>"
            ]
          },
          "metadata": {},
          "execution_count": 14
        }
      ]
    },
    {
      "cell_type": "code",
      "source": [
        "from sklearn.metrics import classification_report, confusion_matrix, accuracy_score\n",
        "\n",
        "def c_report(y_true, y_pred):\n",
        "   print(\"Classification Report\")\n",
        "   print(classification_report(y_true, y_pred))\n",
        "   acc_sc = accuracy_score(y_true, y_pred)\n",
        "   print(\"Accuracy : \"+ str(acc_sc))\n",
        "   return acc_sc\n",
        "\n",
        "def plot_confusion_matrix(y_true, y_pred):\n",
        "   mtx = confusion_matrix(y_true, y_pred)\n",
        "   sns.heatmap(mtx, annot=True, fmt='d', linewidths=.5,\n",
        "               cmap=\"Blues\", cbar=False)\n",
        "   plt.ylabel('True label')\n",
        "   plt.xlabel('Predicted label')"
      ],
      "metadata": {
        "id": "8HmoUUmbNf-s"
      },
      "execution_count": null,
      "outputs": []
    },
    {
      "cell_type": "code",
      "source": [
        "preds = (model.predict(padded_test) > 0.5).astype(\"int32\")"
      ],
      "metadata": {
        "colab": {
          "base_uri": "https://localhost:8080/"
        },
        "id": "rS_qyEQnNjv2",
        "outputId": "3097aabb-be67-4b77-aef5-cb87107028c8"
      },
      "execution_count": null,
      "outputs": [
        {
          "output_type": "stream",
          "name": "stdout",
          "text": [
            "35/35 [==============================] - 0s 2ms/step\n"
          ]
        }
      ]
    },
    {
      "cell_type": "code",
      "source": [
        "c_report(y_test, preds)\n",
        "plot_confusion_matrix(y_test, preds)"
      ],
      "metadata": {
        "colab": {
          "base_uri": "https://localhost:8080/",
          "height": 645
        },
        "id": "VkIOPwxkNp7K",
        "outputId": "f48ae4cc-dab1-41a7-d894-d0247099ea6a"
      },
      "execution_count": null,
      "outputs": [
        {
          "output_type": "stream",
          "name": "stdout",
          "text": [
            "Classification Report\n",
            "              precision    recall  f1-score   support\n",
            "\n",
            "           0       0.98      0.99      0.99       965\n",
            "           1       0.96      0.89      0.92       150\n",
            "\n",
            "    accuracy                           0.98      1115\n",
            "   macro avg       0.97      0.94      0.96      1115\n",
            "weighted avg       0.98      0.98      0.98      1115\n",
            "\n",
            "Accuracy : 0.9802690582959641\n"
          ]
        },
        {
          "output_type": "display_data",
          "data": {
            "text/plain": [
              "<Figure size 640x480 with 1 Axes>"
            ],
            "image/png": "[encoded data removed]"
          },
          "metadata": {}
        }
      ]
    }
  ]
}